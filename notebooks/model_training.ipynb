{
 "cells": [
  {
   "cell_type": "code",
   "execution_count": null,
   "id": "fa9d07fa",
   "metadata": {
    "vscode": {
     "languageId": "plaintext"
    }
   },
   "outputs": [],
   "source": [
    "!rm -rf project\n",
    "!git clone https://github.com/karthu0301/stray-codes-trymachinelearning.git project\n",
    "%cd project\n",
    "\n",
    "!touch src/__init__.py\n",
    "!pip install -q -r requirements.txt pyarrow joblib bs4 pandas scikit-learn matplotlib\n",
    "\n"
   ]
  },
  {
   "cell_type": "code",
   "execution_count": null,
   "id": "d1fefaa0",
   "metadata": {
    "vscode": {
     "languageId": "plaintext"
    }
   },
   "outputs": [],
   "source": [
    "from google.colab import files\n",
    "uploaded = files.upload()\n",
    "!mkdir -p data/data\n",
    "!mv reviews.csv data/data/reviews.csv\n",
    "!ls -lah data/data\n"
   ]
  },
  {
   "cell_type": "code",
   "execution_count": null,
   "id": "84c0b6a0",
   "metadata": {
    "vscode": {
     "languageId": "plaintext"
    }
   },
   "outputs": [],
   "source": [
    "!python -m src.preprocess \\\n",
    "  --input data/data/reviews.csv \\\n",
    "  --output data/processed/reviews_clean.parquet \\\n",
    "  --labelmap_out data/processed/category_label_map.json \\\n",
    "  --drop_empty_clean \\\n",
    "  --drop_dup_exact \\\n",
    "  --verbose_preview\n",
    "\n",
    "import pandas as pd\n",
    "df = pd.read_parquet(\"data/processed/reviews_clean.parquet\")\n",
    "print(\"Rows:\", len(df), \"| Cols:\", len(df.columns))\n",
    "df.head(3)\n",
    "\n",
    "!python -m src.model \\\n",
    "  --parquet data/processed/reviews_clean.parquet \\\n",
    "  --out_dir artifacts/model_test \\\n",
    "  --ambiguous_strategy valid \\\n",
    "  --test_size 0.2\n",
    "\n",
    "!ls -lah artifacts/model_test\n",
    "\n",
    "import json, pandas as pd\n",
    "from IPython.display import Image, display\n",
    "from pathlib import Path\n",
    "out = Path(\"artifacts/model_test\")\n",
    "print(json.load(open(out/\"metrics.json\")))\n",
    "display(pd.read_csv(out/\"classification_report.csv\"))\n",
    "display(Image(filename=str(out/\"confusion_matrix.png\")))"
   ]
  },
  {
   "cell_type": "code",
   "execution_count": null,
   "id": "11211fcf",
   "metadata": {
    "vscode": {
     "languageId": "plaintext"
    }
   },
   "outputs": [],
   "source": [
    "import pandas as pd\n",
    "from src.features import assign_label\n",
    "\n",
    "df = pd.read_parquet(\"data/processed/reviews_clean.parquet\")\n",
    "heur = df.apply(assign_label, axis=1)\n",
    "\n",
    "amb = df[heur.isna()]\n",
    "nonamb = df[~heur.isna()]\n",
    "!python -m src.preprocess \\\n",
    "  --input data/data/reviews.csv \\\n",
    "  --output data/processed/reviews_clean.parquet \\\n",
    "  --labelmap_out data/processed/category_label_map.json \\\n",
    "  --drop_empty_clean \\\n",
    "  --drop_dup_exact \\\n",
    "  --verbose_preview\n",
    "\n",
    "import pandas as pd\n",
    "df = pd.read_parquet(\"data/processed/reviews_clean.parquet\")\n",
    "print(\"Rows:\", len(df), \"| Cols:\", len(df.columns))\n",
    "df.head(3)\n",
    "\n",
    "!python -m src.model \\\n",
    "  --parquet data/processed/reviews_clean.parquet \\\n",
    "  --out_dir artifacts/model_test \\\n",
    "  --ambiguous_strategy valid \\\n",
    "  --test_size 0.2\n",
    "\n",
    "!ls -lah artifacts/model_test\n",
    "\n",
    "!python -m src.model \\\n",
    "  --parquet data/processed/reviews_clean.parquet \\\n",
    "  --out_dir artifacts/model_full_llm \\\n",
    "  --ambiguous_strategy llm \\\n",
    "  --test_size 0.2\n",
    "\n",
    "\n",
    "!ls -lah artifacts/model_full_llm\n",
    "\n",
    "import json, pandas as pd\n",
    "from IPython.display import Image, display\n",
    "from pathlib import Path\n",
    "out = Path(\"artifacts/model_full_llm\")\n",
    "print(json.load(open(out/\"metrics.json\")))\n",
    "display(pd.read_csv(out/\"classification_report.csv\"))\n",
    "display(Image(filename=str(out/\"confusion_matrix.png\")))\n"
   ]
  }
 ],
 "metadata": {
  "language_info": {
   "name": "python"
  }
 },
 "nbformat": 4,
 "nbformat_minor": 5
}
